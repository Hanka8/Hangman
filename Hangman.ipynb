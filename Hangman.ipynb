{
 "cells": [
  {
   "cell_type": "code",
   "execution_count": 3,
   "metadata": {},
   "outputs": [],
   "source": [
    "import random\n",
    "import string\n",
    "\n",
    "fvar = open(\"hangman_words.txt\", \"r\")\n",
    "words_str = fvar.read()\n",
    "words = words_str.split('\",\"')\n",
    "\n",
    "def get_valid_word(words):\n",
    "    word = random.choice(words)\n",
    "    return word.upper()\n",
    "\n",
    "def hangman():\n",
    "    word = get_valid_word(words)\n",
    "    \n",
    "    word_letters = set(word)\n",
    "    alphabet = set(string.ascii_uppercase)\n",
    "    used_letters = set()\n",
    "     \n",
    "    \n",
    "    while len(word_letters) > 0:\n",
    "        print(\"You have used these letters: {}\".format(\" \".join(used_letters)))\n",
    "        \n",
    "        word_list = [letter if letter in used_letters else \"_\" for letter in word]\n",
    "        print(\"Current word: {}\".format(\" \".join(word_list)))\n",
    "        \n",
    "        user_letter = input(\"Guess a letter: \").upper()\n",
    "        if user_letter in alphabet - used_letters:\n",
    "            used_letters.add(user_letter)\n",
    "            if user_letter in word_letters:\n",
    "                word_letters.remove(user_letter)\n",
    "\n",
    "        elif user_letter in used_letters:\n",
    "            print(\"You have already guessed this letter.\")\n",
    "\n",
    "        else:\n",
    "            print(\"You didnt type a valid character.\")\n",
    "            \n",
    "    print(\"GOT IT\")\n",
    "\n"
   ]
  },
  {
   "cell_type": "code",
   "execution_count": null,
   "metadata": {},
   "outputs": [
    {
     "name": "stdout",
     "output_type": "stream",
     "text": [
      "You have used these letters: \n",
      "Current word: _ _ _ _\n",
      "Guess a letter: a\n",
      "You have used these letters: A\n",
      "Current word: _ _ _ _\n",
      "Guess a letter: c\n",
      "You have used these letters: A C\n",
      "Current word: _ _ _ _\n",
      "Guess a letter: v\n",
      "You have used these letters: A C V\n",
      "Current word: _ _ _ _\n",
      "Guess a letter: e\n",
      "You have used these letters: A C V E\n",
      "Current word: _ E _ _\n",
      "Guess a letter: r\n",
      "You have used these letters: C V E R A\n",
      "Current word: _ E _ _\n",
      "Guess a letter: f\n",
      "You have used these letters: F C V E R A\n",
      "Current word: _ E _ _\n",
      "Guess a letter: t\n",
      "You have used these letters: F C V E R A T\n",
      "Current word: _ E _ T\n",
      "Guess a letter: z\n",
      "You have used these letters: F Z C V E R A T\n",
      "Current word: _ E _ T\n",
      "Guess a letter: k\n",
      "You have used these letters: F Z K C V E R A T\n",
      "Current word: _ E _ T\n",
      "Guess a letter: u\n",
      "You have used these letters: F Z K C V E R A T U\n",
      "Current word: _ E _ T\n",
      "Guess a letter: i\n",
      "You have used these letters: F I Z K C V E R A T U\n",
      "Current word: _ E _ T\n"
     ]
    }
   ],
   "source": [
    "hangman()"
   ]
  },
  {
   "cell_type": "code",
   "execution_count": null,
   "metadata": {},
   "outputs": [],
   "source": []
  }
 ],
 "metadata": {
  "kernelspec": {
   "display_name": "Python 3",
   "language": "python",
   "name": "python3"
  },
  "language_info": {
   "codemirror_mode": {
    "name": "ipython",
    "version": 3
   },
   "file_extension": ".py",
   "mimetype": "text/x-python",
   "name": "python",
   "nbconvert_exporter": "python",
   "pygments_lexer": "ipython3",
   "version": "3.8.5"
  }
 },
 "nbformat": 4,
 "nbformat_minor": 4
}
